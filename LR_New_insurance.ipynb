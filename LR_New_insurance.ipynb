{
 "cells": [
  {
   "cell_type": "markdown",
   "metadata": {
    "application/vnd.databricks.v1+cell": {
     "cellMetadata": {},
     "inputWidgets": {},
     "nuid": "7c23d805-585b-4cb7-9ada-d0a551c34123",
     "showTitle": false,
     "title": ""
    }
   },
   "source": []
  },
  {
   "cell_type": "code",
   "execution_count": 0,
   "metadata": {
    "application/vnd.databricks.v1+cell": {
     "cellMetadata": {
      "byteLimit": 2048000,
      "rowLimit": 10000
     },
     "inputWidgets": {},
     "nuid": "48b1ac97-8999-4f7d-bef2-32ea4a208b11",
     "showTitle": false,
     "title": ""
    },
    "id": "538c5c40"
   },
   "outputs": [],
   "source": [
    "import pandas as pd\n",
    "import numpy as np\n",
    "import matplotlib.pyplot as plt"
   ]
  },
  {
   "cell_type": "code",
   "execution_count": 0,
   "metadata": {
    "application/vnd.databricks.v1+cell": {
     "cellMetadata": {
      "byteLimit": 2048000,
      "rowLimit": 10000
     },
     "inputWidgets": {},
     "nuid": "0d038060-9b4b-424d-a190-8df2843fe8ba",
     "showTitle": false,
     "title": ""
    }
   },
   "outputs": [],
   "source": [
    "import seaborn as sns"
   ]
  },
  {
   "cell_type": "code",
   "execution_count": 0,
   "metadata": {
    "application/vnd.databricks.v1+cell": {
     "cellMetadata": {
      "byteLimit": 2048000,
      "rowLimit": 10000
     },
     "inputWidgets": {},
     "nuid": "63ed70c2-9146-4b59-be4f-dfb00ffda620",
     "showTitle": false,
     "title": ""
    },
    "id": "c901842e"
   },
   "outputs": [],
   "source": [
    "#importing the data\n",
    "insurance=pd.read_csv('new_insurance_data.csv')"
   ]
  },
  {
   "cell_type": "code",
   "execution_count": 0,
   "metadata": {
    "application/vnd.databricks.v1+cell": {
     "cellMetadata": {},
     "inputWidgets": {},
     "nuid": "bff9dc29-df57-4f16-a406-dbb128c066a0",
     "showTitle": false,
     "title": ""
    },
    "colab": {
     "base_uri": "https://localhost:8080/",
     "height": 270
    },
    "id": "db7cd5cf",
    "outputId": "98a853f9-41b7-47d0-9dcc-ab6361ac5f88",
    "scrolled": true
   },
   "outputs": [],
   "source": [
    "# Exploartory data analaysis\n",
    "\n",
    "insurance.head()"
   ]
  },
  {
   "cell_type": "code",
   "execution_count": 0,
   "metadata": {
    "application/vnd.databricks.v1+cell": {
     "cellMetadata": {},
     "inputWidgets": {},
     "nuid": "42a7127a-3fdc-4c31-9e6b-84820088fc7f",
     "showTitle": false,
     "title": ""
    },
    "colab": {
     "base_uri": "https://localhost:8080/"
    },
    "id": "469ea83d",
    "outputId": "2e34a4c2-f3ba-40b7-d3da-2c1ec3a45f4a"
   },
   "outputs": [],
   "source": [
    "insurance.shape"
   ]
  },
  {
   "cell_type": "code",
   "execution_count": 0,
   "metadata": {
    "application/vnd.databricks.v1+cell": {
     "cellMetadata": {},
     "inputWidgets": {},
     "nuid": "01e6ac84-268f-4fc5-820a-2e1e1a754560",
     "showTitle": false,
     "title": ""
    },
    "colab": {
     "base_uri": "https://localhost:8080/"
    },
    "id": "fc0c2381",
    "outputId": "415a4d8d-a2da-4b5b-a8f8-67ebc6666674"
   },
   "outputs": [],
   "source": [
    "insurance.info()"
   ]
  },
  {
   "cell_type": "code",
   "execution_count": 0,
   "metadata": {
    "application/vnd.databricks.v1+cell": {
     "cellMetadata": {},
     "inputWidgets": {},
     "nuid": "f68c8f93-55e9-40fe-8d12-5ec5862cbe15",
     "showTitle": false,
     "title": ""
    },
    "id": "c7c161c9",
    "outputId": "d0d1d2c4-c488-4c92-b747-689c4482e10c"
   },
   "outputs": [],
   "source": [
    "insurance.isnull()  # aslo isna()"
   ]
  },
  {
   "cell_type": "code",
   "execution_count": 0,
   "metadata": {
    "application/vnd.databricks.v1+cell": {
     "cellMetadata": {},
     "inputWidgets": {},
     "nuid": "60fef720-e6f4-4099-8047-dc0aaed839d2",
     "showTitle": false,
     "title": ""
    },
    "colab": {
     "base_uri": "https://localhost:8080/"
    },
    "id": "964ee215",
    "outputId": "0d0dd9e1-cdd0-47fd-d4b2-1260dfa44a96"
   },
   "outputs": [],
   "source": [
    "insurance.isnull().sum()"
   ]
  },
  {
   "cell_type": "code",
   "execution_count": 0,
   "metadata": {
    "application/vnd.databricks.v1+cell": {
     "cellMetadata": {},
     "inputWidgets": {},
     "nuid": "b9aa36b9-b8ef-483c-9dcc-9e75ed4255fc",
     "showTitle": false,
     "title": ""
    },
    "id": "8810aa7d",
    "outputId": "e1fa95a0-c7f7-4cf3-9944-341e2d2b5bd8"
   },
   "outputs": [],
   "source": [
    "insurance.tail()"
   ]
  },
  {
   "cell_type": "code",
   "execution_count": 0,
   "metadata": {
    "application/vnd.databricks.v1+cell": {
     "cellMetadata": {},
     "inputWidgets": {},
     "nuid": "792bd547-6b0a-4a70-89da-c3489376b41c",
     "showTitle": false,
     "title": ""
    },
    "id": "36f8177b",
    "outputId": "c45b6838-5402-4fdb-b5f1-076065a82c09"
   },
   "outputs": [],
   "source": [
    "insurance"
   ]
  },
  {
   "cell_type": "code",
   "execution_count": 0,
   "metadata": {
    "application/vnd.databricks.v1+cell": {
     "cellMetadata": {},
     "inputWidgets": {},
     "nuid": "e466cc79-2ef7-4f83-b367-4a5689233c69",
     "showTitle": false,
     "title": ""
    },
    "colab": {
     "base_uri": "https://localhost:8080/"
    },
    "id": "dde2fb0d",
    "outputId": "516d478d-1a51-4c3d-b367-d01c4b589316"
   },
   "outputs": [],
   "source": [
    "insurance.columns"
   ]
  },
  {
   "cell_type": "code",
   "execution_count": 0,
   "metadata": {
    "application/vnd.databricks.v1+cell": {
     "cellMetadata": {},
     "inputWidgets": {},
     "nuid": "a9f65588-f6f2-4251-b1f4-ab95b5b4978b",
     "showTitle": false,
     "title": ""
    },
    "id": "6f308235"
   },
   "outputs": [],
   "source": [
    "col=list(insurance.columns)"
   ]
  },
  {
   "cell_type": "code",
   "execution_count": 0,
   "metadata": {
    "application/vnd.databricks.v1+cell": {
     "cellMetadata": {},
     "inputWidgets": {},
     "nuid": "56f5a1d7-4572-44e6-884c-46ffed115354",
     "showTitle": false,
     "title": ""
    },
    "colab": {
     "base_uri": "https://localhost:8080/"
    },
    "id": "d628b87a",
    "outputId": "d7a689a6-8765-4fc1-a4a7-888ae89c9e94"
   },
   "outputs": [],
   "source": [
    "col"
   ]
  },
  {
   "cell_type": "code",
   "execution_count": 0,
   "metadata": {
    "application/vnd.databricks.v1+cell": {
     "cellMetadata": {},
     "inputWidgets": {},
     "nuid": "a076be85-a5fd-4bfe-9672-5e03f2ce0d08",
     "showTitle": false,
     "title": ""
    },
    "colab": {
     "base_uri": "https://localhost:8080/"
    },
    "id": "qajQ8agjgd6J",
    "outputId": "a04c946b-70fc-49e8-aa90-2d7b88fe32d8"
   },
   "outputs": [],
   "source": [
    "type(col)"
   ]
  },
  {
   "cell_type": "code",
   "execution_count": 0,
   "metadata": {
    "application/vnd.databricks.v1+cell": {
     "cellMetadata": {},
     "inputWidgets": {},
     "nuid": "2bdd3945-03e9-42a5-80d8-f1a46a1e2b2c",
     "showTitle": false,
     "title": ""
    },
    "id": "2cc9da65"
   },
   "outputs": [],
   "source": [
    "#10,30,40,70,5,3, ,60,78"
   ]
  },
  {
   "cell_type": "code",
   "execution_count": 0,
   "metadata": {
    "application/vnd.databricks.v1+cell": {
     "cellMetadata": {},
     "inputWidgets": {},
     "nuid": "0e874278-4205-43d0-ba02-b2852ed876e6",
     "showTitle": false,
     "title": ""
    },
    "id": "b808e24c"
   },
   "outputs": [],
   "source": [
    "insurance['smoker'].value_counts()"
   ]
  },
  {
   "cell_type": "code",
   "execution_count": 0,
   "metadata": {
    "application/vnd.databricks.v1+cell": {
     "cellMetadata": {},
     "inputWidgets": {},
     "nuid": "b399f5e4-d544-49b0-ac2d-66d89719f391",
     "showTitle": false,
     "title": ""
    },
    "id": "ee0b8314",
    "outputId": "ef23f146-e9ac-4fd2-a758-b4163e0ca1a5"
   },
   "outputs": [],
   "source": [
    "insurance['smoker'].mode()"
   ]
  },
  {
   "cell_type": "code",
   "execution_count": 0,
   "metadata": {
    "application/vnd.databricks.v1+cell": {
     "cellMetadata": {},
     "inputWidgets": {},
     "nuid": "ce4c3d88-0cf5-4d41-8f18-e8b6607e2ef8",
     "showTitle": false,
     "title": ""
    },
    "colab": {
     "base_uri": "https://localhost:8080/",
     "height": 35
    },
    "id": "fb724242",
    "outputId": "9f753ef1-eca1-4ddc-8b2e-73d652a5181c"
   },
   "outputs": [],
   "source": [
    "insurance['smoker'].mode()[0]"
   ]
  },
  {
   "cell_type": "code",
   "execution_count": 0,
   "metadata": {
    "application/vnd.databricks.v1+cell": {
     "cellMetadata": {},
     "inputWidgets": {},
     "nuid": "1bc58d30-4c36-4312-a637-bab74f05a2b6",
     "showTitle": false,
     "title": ""
    },
    "colab": {
     "base_uri": "https://localhost:8080/"
    },
    "id": "SNvre2BCkuFC",
    "outputId": "3c4307dd-1f91-4c02-b638-ac59b0d502ef"
   },
   "outputs": [],
   "source": [
    "insurance['children'].mean()"
   ]
  },
  {
   "cell_type": "code",
   "execution_count": 0,
   "metadata": {
    "application/vnd.databricks.v1+cell": {
     "cellMetadata": {},
     "inputWidgets": {},
     "nuid": "65cdc3c1-aeac-4e06-9d36-67c02ed7b180",
     "showTitle": false,
     "title": ""
    },
    "id": "23df7962",
    "outputId": "68037570-3315-4990-a519-5df724699b4a"
   },
   "outputs": [],
   "source": [
    "insurance['age'].mean()"
   ]
  },
  {
   "cell_type": "code",
   "execution_count": 0,
   "metadata": {
    "application/vnd.databricks.v1+cell": {
     "cellMetadata": {},
     "inputWidgets": {},
     "nuid": "2a165398-462e-47bd-99b9-9b2f6b309552",
     "showTitle": false,
     "title": ""
    },
    "colab": {
     "base_uri": "https://localhost:8080/"
    },
    "id": "qig440OVkJXz",
    "outputId": "17fe6baf-b39b-499d-afd0-758146b97fda"
   },
   "outputs": [],
   "source": [
    "insurance.isnull().sum()"
   ]
  },
  {
   "cell_type": "code",
   "execution_count": 0,
   "metadata": {
    "application/vnd.databricks.v1+cell": {
     "cellMetadata": {},
     "inputWidgets": {},
     "nuid": "379e5385-0698-4669-b7b3-ddcf00337048",
     "showTitle": false,
     "title": ""
    },
    "id": "924c0c04"
   },
   "outputs": [],
   "source": [
    "for col_name in col:\n",
    "    if insurance[col_name].dtypes=='object':\n",
    "        #print('ob')\n",
    "        insurance[col_name] = insurance[col_name].fillna(insurance[col_name].mode()[0])\n",
    "    else:\n",
    "        #print('num')\n",
    "        insurance[col_name] = insurance[col_name].fillna(insurance[col_name].mean())\n",
    "        "
   ]
  },
  {
   "cell_type": "code",
   "execution_count": 0,
   "metadata": {
    "application/vnd.databricks.v1+cell": {
     "cellMetadata": {},
     "inputWidgets": {},
     "nuid": "33b6acd5-f8ab-46b7-a75d-26cffc17995d",
     "showTitle": false,
     "title": ""
    },
    "id": "uZXQmLhchQmZ",
    "outputId": "29403c32-c955-447a-9124-c9eb858973e5"
   },
   "outputs": [],
   "source": [
    "'''#object ---> mode\n",
    "# num------> mean/median\n",
    "\n",
    " #mode---> most repeated data----> object\n",
    "\n",
    "#numeric\n",
    " #median---> center\n",
    "# mean---> avg\n",
    "\n",
    "10 5 50 17 15 ?\n",
    "mean---> 20\n",
    "median---> 15\n",
    "5 10 15 17 99\n",
    "\n",
    "#  mode\n",
    "y n y y y n ?\n",
    "y--->4\n",
    "n--->2\n",
    "Y'''"
   ]
  },
  {
   "cell_type": "code",
   "execution_count": 0,
   "metadata": {
    "application/vnd.databricks.v1+cell": {
     "cellMetadata": {},
     "inputWidgets": {},
     "nuid": "20d54c26-4649-45da-8d11-e86e1b2e825c",
     "showTitle": false,
     "title": ""
    },
    "id": "2lyv7IILjCrA"
   },
   "outputs": [],
   "source": [
    "#10 + 5 + 50 + 17 + 15\n",
    "#97/5"
   ]
  },
  {
   "cell_type": "code",
   "execution_count": 0,
   "metadata": {
    "application/vnd.databricks.v1+cell": {
     "cellMetadata": {},
     "inputWidgets": {},
     "nuid": "0a395423-109a-4c70-a842-9b38010ce9ef",
     "showTitle": false,
     "title": ""
    },
    "colab": {
     "base_uri": "https://localhost:8080/"
    },
    "id": "2c34477b",
    "outputId": "1fcb557b-f869-40e2-b4f6-d11039ec1c8d"
   },
   "outputs": [],
   "source": [
    "insurance.isnull().sum()"
   ]
  },
  {
   "cell_type": "code",
   "execution_count": 0,
   "metadata": {
    "application/vnd.databricks.v1+cell": {
     "cellMetadata": {},
     "inputWidgets": {},
     "nuid": "0fb855a5-efee-4886-8bb3-49855607e237",
     "showTitle": false,
     "title": ""
    },
    "colab": {
     "base_uri": "https://localhost:8080/"
    },
    "id": "9c5789c1",
    "outputId": "4e06bd3c-5be3-4b0d-d9cd-2166dbb9db2c"
   },
   "outputs": [],
   "source": [
    "insurance.shape"
   ]
  },
  {
   "cell_type": "code",
   "execution_count": 0,
   "metadata": {
    "application/vnd.databricks.v1+cell": {
     "cellMetadata": {},
     "inputWidgets": {},
     "nuid": "15d24e45-6fb1-40c9-8066-1a375742cb37",
     "showTitle": false,
     "title": ""
    },
    "id": "dead1233",
    "outputId": "117397e3-95eb-4e0b-e2ca-9699d64bddb7"
   },
   "outputs": [],
   "source": [
    "insurance['age'].dtype"
   ]
  },
  {
   "cell_type": "code",
   "execution_count": 0,
   "metadata": {
    "application/vnd.databricks.v1+cell": {
     "cellMetadata": {},
     "inputWidgets": {},
     "nuid": "9b8485b7-f017-4b30-a858-88bc249e2376",
     "showTitle": false,
     "title": ""
    },
    "id": "c169fbcf",
    "outputId": "f12ae77a-2998-4ad0-8eff-6d4ef08093c1"
   },
   "outputs": [],
   "source": [
    "insurance.head()"
   ]
  },
  {
   "cell_type": "code",
   "execution_count": 0,
   "metadata": {
    "application/vnd.databricks.v1+cell": {
     "cellMetadata": {},
     "inputWidgets": {},
     "nuid": "4ec3ae17-9729-4006-ac90-b5c1af2a3314",
     "showTitle": false,
     "title": ""
    },
    "id": "73e61a07",
    "outputId": "e8580834-9b58-40bf-c434-64ee84515af4"
   },
   "outputs": [],
   "source": [
    "col"
   ]
  },
  {
   "cell_type": "code",
   "execution_count": 0,
   "metadata": {
    "application/vnd.databricks.v1+cell": {
     "cellMetadata": {},
     "inputWidgets": {},
     "nuid": "87f4371d-5302-4e34-8199-8950ee4f4ff1",
     "showTitle": false,
     "title": ""
    },
    "id": "f2e2c157"
   },
   "outputs": [],
   "source": [
    "#seaborn"
   ]
  },
  {
   "cell_type": "code",
   "execution_count": 0,
   "metadata": {
    "application/vnd.databricks.v1+cell": {
     "cellMetadata": {},
     "inputWidgets": {},
     "nuid": "cc781a02-2638-41df-af3f-399b8ac76ca0",
     "showTitle": false,
     "title": ""
    },
    "id": "7f32ba9b",
    "outputId": "06d868a3-aa81-4d0e-a8d5-7e2e231f1720"
   },
   "outputs": [],
   "source": [
    "for col_name in col:\n",
    "    if(insurance[col_name].dtypes=='int64' or insurance[col_name].dtypes=='float64'):\n",
    "        plt.hist(insurance[col_name])\n",
    "        plt.xlabel(col_name)\n",
    "        plt.ylabel('count')\n",
    "        plt.show()"
   ]
  },
  {
   "cell_type": "code",
   "execution_count": 0,
   "metadata": {
    "application/vnd.databricks.v1+cell": {
     "cellMetadata": {},
     "inputWidgets": {},
     "nuid": "85cccbf1-b895-493b-99ed-de88091cf50f",
     "showTitle": false,
     "title": ""
    },
    "colab": {
     "base_uri": "https://localhost:8080/"
    },
    "id": "2Sgf1p_0oFpa",
    "outputId": "c7007ef3-a93e-4e3a-fee6-94356212c022"
   },
   "outputs": [],
   "source": [
    "col"
   ]
  },
  {
   "cell_type": "code",
   "execution_count": 0,
   "metadata": {
    "application/vnd.databricks.v1+cell": {
     "cellMetadata": {},
     "inputWidgets": {},
     "nuid": "55eb9d99-a294-4355-ad11-2d4012befa58",
     "showTitle": false,
     "title": ""
    },
    "id": "298b7a30",
    "outputId": "e31cf582-7577-472c-d589-9d5cf0ac3076"
   },
   "outputs": [],
   "source": [
    "for col_name in col:\n",
    "    if(insurance[col_name].dtypes=='int64' or insurance[col_name].dtypes=='float64'):\n",
    "        plt.boxplot(insurance[col_name])\n",
    "        plt.xlabel(col_name)\n",
    "        plt.ylabel('count')\n",
    "        plt.show()"
   ]
  },
  {
   "cell_type": "code",
   "execution_count": 0,
   "metadata": {
    "application/vnd.databricks.v1+cell": {
     "cellMetadata": {},
     "inputWidgets": {},
     "nuid": "d34e4f5c-9516-4c21-9601-1d260ec276fa",
     "showTitle": false,
     "title": ""
    },
    "colab": {
     "base_uri": "https://localhost:8080/",
     "height": 364
    },
    "id": "U52Pe6z2qTIp",
    "outputId": "8be05726-47c2-458f-838c-cb5e3664d5f1"
   },
   "outputs": [],
   "source": [
    "insurance.describe()"
   ]
  },
  {
   "cell_type": "code",
   "execution_count": 0,
   "metadata": {
    "application/vnd.databricks.v1+cell": {
     "cellMetadata": {},
     "inputWidgets": {},
     "nuid": "c72433fe-26e3-4727-84cc-a0c05a5fdb1c",
     "showTitle": false,
     "title": ""
    },
    "id": "63898c19"
   },
   "outputs": [],
   "source": [
    "#treating or finding the  outliers \n",
    "## taking this examplke to undersatnt the concept only"
   ]
  },
  {
   "cell_type": "code",
   "execution_count": 0,
   "metadata": {
    "application/vnd.databricks.v1+cell": {
     "cellMetadata": {},
     "inputWidgets": {},
     "nuid": "3fe10906-2f49-4692-a746-6c8d08d29f8e",
     "showTitle": false,
     "title": ""
    },
    "id": "4dea2210"
   },
   "outputs": [],
   "source": [
    "Q1 = insurance.bmi.quantile(0.25)\n",
    "Q3 = insurance.bmi.quantile(0.75)"
   ]
  },
  {
   "cell_type": "code",
   "execution_count": 0,
   "metadata": {
    "application/vnd.databricks.v1+cell": {
     "cellMetadata": {},
     "inputWidgets": {},
     "nuid": "12ab86c0-0566-42c3-b52a-6d5bc16c1a10",
     "showTitle": false,
     "title": ""
    },
    "id": "5627bc40",
    "outputId": "0a295fc4-01df-4201-f88b-68623bd1d344"
   },
   "outputs": [],
   "source": [
    "Q1"
   ]
  },
  {
   "cell_type": "code",
   "execution_count": 0,
   "metadata": {
    "application/vnd.databricks.v1+cell": {
     "cellMetadata": {},
     "inputWidgets": {},
     "nuid": "4e678ff5-4347-4431-8b13-f70e61951d20",
     "showTitle": false,
     "title": ""
    },
    "id": "81df2c33",
    "outputId": "213b28da-6156-4d6e-8277-54b2608e01d5"
   },
   "outputs": [],
   "source": [
    "Q3"
   ]
  },
  {
   "cell_type": "code",
   "execution_count": 0,
   "metadata": {
    "application/vnd.databricks.v1+cell": {
     "cellMetadata": {},
     "inputWidgets": {},
     "nuid": "0ad47ef3-b2ba-41b7-918e-11ef080f9698",
     "showTitle": false,
     "title": ""
    },
    "id": "0a8197cc",
    "outputId": "97505a93-cde7-4045-c2df-68f0c02fa7e1"
   },
   "outputs": [],
   "source": [
    "IQR = Q3 - Q1\n",
    "IQR"
   ]
  },
  {
   "cell_type": "code",
   "execution_count": 0,
   "metadata": {
    "application/vnd.databricks.v1+cell": {
     "cellMetadata": {},
     "inputWidgets": {},
     "nuid": "e07eae97-9f19-4d88-b88c-f700c04c4d44",
     "showTitle": false,
     "title": ""
    },
    "id": "a68185ef",
    "outputId": "48cc9dfc-0735-4061-ffca-72f4bb6913b0"
   },
   "outputs": [],
   "source": [
    "Q1 - 1.5*IQR     # to know the lower limit and uper limit"
   ]
  },
  {
   "cell_type": "code",
   "execution_count": 0,
   "metadata": {
    "application/vnd.databricks.v1+cell": {
     "cellMetadata": {},
     "inputWidgets": {},
     "nuid": "e1ec51fe-2cb7-4a17-9417-92ca3c89371d",
     "showTitle": false,
     "title": ""
    },
    "id": "ce8609d9",
    "outputId": "ce9698fa-3f5c-4631-c242-78a602a686e6"
   },
   "outputs": [],
   "source": [
    "Q3 + 1.5*IQR    # to know the upper limit"
   ]
  },
  {
   "cell_type": "code",
   "execution_count": 0,
   "metadata": {
    "application/vnd.databricks.v1+cell": {
     "cellMetadata": {},
     "inputWidgets": {},
     "nuid": "67f0c2e4-dae8-42ae-b0d9-724818174c7d",
     "showTitle": false,
     "title": ""
    },
    "id": "024f22bc",
    "outputId": "b7bf44c8-f60c-4c94-81b8-40f2ddf17337",
    "scrolled": true
   },
   "outputs": [],
   "source": [
    "plt.boxplot(insurance['bmi'])\n",
    "plt.show()"
   ]
  },
  {
   "cell_type": "code",
   "execution_count": 0,
   "metadata": {
    "application/vnd.databricks.v1+cell": {
     "cellMetadata": {},
     "inputWidgets": {},
     "nuid": "a75db199-3015-4808-ad10-26c56d046641",
     "showTitle": false,
     "title": ""
    },
    "id": "196a9864"
   },
   "outputs": [],
   "source": [
    "#insurance[(insurance['sex']=='male') & (insurance['smoker']=='no')]"
   ]
  },
  {
   "cell_type": "code",
   "execution_count": 0,
   "metadata": {
    "application/vnd.databricks.v1+cell": {
     "cellMetadata": {},
     "inputWidgets": {},
     "nuid": "b757b233-94df-441d-9015-df92dad06288",
     "showTitle": false,
     "title": ""
    },
    "id": "d829ef22"
   },
   "outputs": [],
   "source": [
    "## Removing the outliers; we are selecting only those columns where we can see outlires by boxplot from above boxplot\n",
    "## mind we cannot 100% remove the outliers\n",
    "\n",
    "Q1 = insurance.bmi.quantile(0.25)\n",
    "Q3 = insurance.bmi.quantile(0.75)\n",
    "IQR = Q3 - Q1\n",
    "insurance = insurance[(insurance.bmi >= Q1 - 1.5*IQR) & (insurance.bmi <= Q3 + 1.5*IQR)]\n",
    "\n",
    "Q1 = insurance.past_consultations.quantile(0.25)\n",
    "Q3 = insurance.past_consultations.quantile(0.75)\n",
    "IQR = Q3 - Q1\n",
    "insurance = insurance[(insurance.past_consultations >= Q1 - 1.5*IQR) & (insurance.past_consultations <= Q3 + 1.5*IQR)]\n",
    "\n",
    "Q1 = insurance.Hospital_expenditure.quantile(0.25)\n",
    "Q3 = insurance.Hospital_expenditure.quantile(0.75)\n",
    "IQR = Q3 - Q1\n",
    "insurance = insurance[(insurance.Hospital_expenditure >= Q1 - 1.5*IQR) & (insurance.Hospital_expenditure <= Q3 + 1.5*IQR)]\n",
    "\n",
    "Q1 = insurance.Anual_Salary.quantile(0.25)\n",
    "Q3 = insurance.Anual_Salary.quantile(0.75)\n",
    "IQR = Q3 - Q1\n",
    "insurance = insurance[(insurance.Anual_Salary >= Q1 - 1.5*IQR) & (insurance.Anual_Salary <= Q3 + 1.5*IQR)]\n"
   ]
  },
  {
   "cell_type": "code",
   "execution_count": 0,
   "metadata": {
    "application/vnd.databricks.v1+cell": {
     "cellMetadata": {},
     "inputWidgets": {},
     "nuid": "c211f4ab-a177-40a9-8ef5-53999b54b1a8",
     "showTitle": false,
     "title": ""
    },
    "id": "e2e60944",
    "outputId": "e8273560-fa9d-4186-edd5-b44800fff189"
   },
   "outputs": [],
   "source": [
    "insurance.shape"
   ]
  },
  {
   "cell_type": "code",
   "execution_count": 0,
   "metadata": {
    "application/vnd.databricks.v1+cell": {
     "cellMetadata": {},
     "inputWidgets": {},
     "nuid": "272802f4-29d9-4134-a28c-6066b48a779e",
     "showTitle": false,
     "title": ""
    },
    "colab": {
     "base_uri": "https://localhost:8080/",
     "height": 1000
    },
    "id": "30ff4ff9",
    "outputId": "a41e8575-a72e-4e30-f0a6-de731da9aa04",
    "scrolled": false
   },
   "outputs": [],
   "source": [
    "for col_name in col:\n",
    "    if(insurance[col_name].dtypes=='int64' or insurance[col_name].dtypes=='float64'):\n",
    "        plt.boxplot(insurance[col_name])\n",
    "        plt.xlabel(col_name)\n",
    "        plt.ylabel('count')\n",
    "        plt.show()"
   ]
  },
  {
   "cell_type": "code",
   "execution_count": 0,
   "metadata": {
    "application/vnd.databricks.v1+cell": {
     "cellMetadata": {},
     "inputWidgets": {},
     "nuid": "122ee315-ce94-4581-b9a6-534766dd7de6",
     "showTitle": false,
     "title": ""
    },
    "id": "6d60c950",
    "outputId": "c69db042-e3bb-48f7-fd18-1e5e63ced62b"
   },
   "outputs": [],
   "source": [
    "insurance.corr()"
   ]
  },
  {
   "cell_type": "code",
   "execution_count": 0,
   "metadata": {
    "application/vnd.databricks.v1+cell": {
     "cellMetadata": {},
     "inputWidgets": {},
     "nuid": "b1df547a-848d-41eb-bc6f-1db83ef26ed3",
     "showTitle": false,
     "title": ""
    },
    "colab": {
     "base_uri": "https://localhost:8080/"
    },
    "id": "1ZSUBAQUwvVl",
    "outputId": "2910dc21-c66a-4c20-da9d-2f381b88493d"
   },
   "outputs": [],
   "source": [
    "insurance.shape"
   ]
  },
  {
   "cell_type": "code",
   "execution_count": 0,
   "metadata": {
    "application/vnd.databricks.v1+cell": {
     "cellMetadata": {},
     "inputWidgets": {},
     "nuid": "93b5ea8c-9ce1-443c-b5e0-39d5bccce081",
     "showTitle": false,
     "title": ""
    },
    "id": "d8485224"
   },
   "outputs": [],
   "source": [
    "#age, date of birth, 10th_year, 12th_year,--- anual expediture of the customer"
   ]
  },
  {
   "cell_type": "code",
   "execution_count": 0,
   "metadata": {
    "application/vnd.databricks.v1+cell": {
     "cellMetadata": {},
     "inputWidgets": {},
     "nuid": "47fe06ac-989a-42d0-aea9-bd4d23b82926",
     "showTitle": false,
     "title": ""
    },
    "id": "b1f601d8"
   },
   "outputs": [],
   "source": [
    "from sklearn.linear_model import LinearRegression"
   ]
  },
  {
   "cell_type": "code",
   "execution_count": 0,
   "metadata": {
    "application/vnd.databricks.v1+cell": {
     "cellMetadata": {},
     "inputWidgets": {},
     "nuid": "706fa7ad-2a7f-447f-9496-5235f0501859",
     "showTitle": false,
     "title": ""
    },
    "id": "8b93388a"
   },
   "outputs": [],
   "source": [
    "from sklearn.model_selection import train_test_split"
   ]
  },
  {
   "cell_type": "code",
   "execution_count": 0,
   "metadata": {
    "application/vnd.databricks.v1+cell": {
     "cellMetadata": {},
     "inputWidgets": {},
     "nuid": "71b04527-c7de-4886-8262-46bbd57e3c13",
     "showTitle": false,
     "title": ""
    },
    "id": "24e20a03"
   },
   "outputs": [],
   "source": [
    "#corelation\n",
    "#age, gender,---- \n",
    "#charges"
   ]
  },
  {
   "cell_type": "code",
   "execution_count": 0,
   "metadata": {
    "application/vnd.databricks.v1+cell": {
     "cellMetadata": {},
     "inputWidgets": {},
     "nuid": "2e7cd194-52e6-4579-ad7c-c8a9a36f8ddc",
     "showTitle": false,
     "title": ""
    },
    "id": "287bd6d8"
   },
   "outputs": [],
   "source": [
    "#multi-colinearirity== 5 or 6  # VIF is used for removing multi-colinearilty\n",
    "#age, gender, dob, ---- \n",
    "#charges"
   ]
  },
  {
   "cell_type": "code",
   "execution_count": 0,
   "metadata": {
    "application/vnd.databricks.v1+cell": {
     "cellMetadata": {},
     "inputWidgets": {},
     "nuid": "bd1f4906-0f56-48fa-bf37-0343b285b5c2",
     "showTitle": false,
     "title": ""
    },
    "id": "b8078c49"
   },
   "outputs": [],
   "source": [
    "from statsmodels.stats.outliers_influence import variance_inflation_factor   #VIF\n",
    "col_list = []\n",
    "for col in insurance.columns:\n",
    "    if ((insurance[col].dtype != 'object') & (col != 'charges') ):#only num cols except for the charges column\n",
    "        col_list.append(col)"
   ]
  },
  {
   "cell_type": "markdown",
   "metadata": {
    "application/vnd.databricks.v1+cell": {
     "cellMetadata": {},
     "inputWidgets": {},
     "nuid": "6804c2d1-ad9f-4018-9e4c-e030817518ee",
     "showTitle": false,
     "title": ""
    },
    "id": "Kwy4rXlCyzI8"
   },
   "source": []
  },
  {
   "cell_type": "code",
   "execution_count": 0,
   "metadata": {
    "application/vnd.databricks.v1+cell": {
     "cellMetadata": {},
     "inputWidgets": {},
     "nuid": "e771414b-284d-4e5f-befb-39527cc0ddaf",
     "showTitle": false,
     "title": ""
    },
    "id": "912e2bd3",
    "outputId": "82b859d5-f286-4800-dfa9-db877677eb08"
   },
   "outputs": [],
   "source": [
    "col_list"
   ]
  },
  {
   "cell_type": "code",
   "execution_count": 0,
   "metadata": {
    "application/vnd.databricks.v1+cell": {
     "cellMetadata": {},
     "inputWidgets": {},
     "nuid": "1e563f1f-ccd8-45ec-8f03-59c339c2d323",
     "showTitle": false,
     "title": ""
    },
    "id": "e2f3c8c9",
    "outputId": "5ca92c9f-328a-4843-efb0-2331abd7d36b"
   },
   "outputs": [],
   "source": [
    "X = insurance[col_list]\n",
    "X"
   ]
  },
  {
   "cell_type": "code",
   "execution_count": 0,
   "metadata": {
    "application/vnd.databricks.v1+cell": {
     "cellMetadata": {},
     "inputWidgets": {},
     "nuid": "67b4dccd-8264-48dc-9375-7e27d5ff2bdb",
     "showTitle": false,
     "title": ""
    },
    "id": "aaa80713",
    "outputId": "8bdc9fca-b403-4c19-8e08-b2c5d92db058"
   },
   "outputs": [],
   "source": [
    "X.values"
   ]
  },
  {
   "cell_type": "code",
   "execution_count": 0,
   "metadata": {
    "application/vnd.databricks.v1+cell": {
     "cellMetadata": {},
     "inputWidgets": {},
     "nuid": "5d86c7a3-4732-4d60-860d-c077c6b66a18",
     "showTitle": false,
     "title": ""
    },
    "id": "558e17ca",
    "outputId": "f290ca87-edf2-435c-d109-b0b1782d0fc4"
   },
   "outputs": [],
   "source": [
    "for i in range(len(X.columns)):\n",
    "    print(i)"
   ]
  },
  {
   "cell_type": "code",
   "execution_count": 0,
   "metadata": {
    "application/vnd.databricks.v1+cell": {
     "cellMetadata": {},
     "inputWidgets": {},
     "nuid": "e5926918-bf89-43f0-8209-c829277d1fcd",
     "showTitle": false,
     "title": ""
    },
    "id": "6ec6768b",
    "outputId": "dadffaf0-85de-4212-e8e2-26bb921bfb1e"
   },
   "outputs": [],
   "source": [
    "from statsmodels.stats.outliers_influence import variance_inflation_factor \n",
    "col_list = []\n",
    "for col in insurance.columns:\n",
    "    if ((insurance[col].dtype != 'object') & (col != 'charges') ):\n",
    "        col_list.append(col)\n",
    "\n",
    "X = insurance[col_list]\n",
    "vif_data = pd.DataFrame() \n",
    "vif_data[\"feature\"] = X.columns \n",
    "vif_data[\"VIF\"] = [variance_inflation_factor(X.values, i) for i in range(len(X.columns))] \n",
    "print(vif_data)\n",
    "\n",
    "# VIF should try to get <6"
   ]
  },
  {
   "cell_type": "code",
   "execution_count": 0,
   "metadata": {
    "application/vnd.databricks.v1+cell": {
     "cellMetadata": {},
     "inputWidgets": {},
     "nuid": "336a8b43-f63e-489b-9eba-ad19f1987f83",
     "showTitle": false,
     "title": ""
    },
    "id": "b47a1312",
    "outputId": "259c8afa-43cd-4e6b-bfbe-984ca6e69d20"
   },
   "outputs": [],
   "source": [
    "len(X.columns)"
   ]
  },
  {
   "cell_type": "code",
   "execution_count": 0,
   "metadata": {
    "application/vnd.databricks.v1+cell": {
     "cellMetadata": {},
     "inputWidgets": {},
     "nuid": "93474de4-2e69-476b-8280-4b96b7aa2dae",
     "showTitle": false,
     "title": ""
    },
    "id": "8462d5aa"
   },
   "outputs": [],
   "source": [
    "#1/1-R2"
   ]
  },
  {
   "cell_type": "code",
   "execution_count": 0,
   "metadata": {
    "application/vnd.databricks.v1+cell": {
     "cellMetadata": {},
     "inputWidgets": {},
     "nuid": "73f5e8f0-927f-4668-a2d6-d73f3e2c0176",
     "showTitle": false,
     "title": ""
    },
    "id": "087626a6"
   },
   "outputs": [],
   "source": [
    "insurance=insurance.drop(['num_of_steps'], axis = 1)  # because num_steps ahvinf VIF"
   ]
  },
  {
   "cell_type": "code",
   "execution_count": 0,
   "metadata": {
    "application/vnd.databricks.v1+cell": {
     "cellMetadata": {},
     "inputWidgets": {},
     "nuid": "2d6aebd4-b651-4221-aa34-f9769703cca0",
     "showTitle": false,
     "title": ""
    },
    "id": "7ba11e54",
    "outputId": "befb6a84-3370-44b0-9a56-7f3d9cb643fa"
   },
   "outputs": [],
   "source": [
    "col_list = []\n",
    "for col in insurance.columns:\n",
    "    if ((insurance[col].dtype != 'object') & (col != 'charges') ):\n",
    "        col_list.append(col)\n",
    "\n",
    "X = insurance[col_list]\n",
    "vif_data = pd.DataFrame() \n",
    "vif_data[\"feature\"] = X.columns \n",
    "vif_data[\"VIF\"] = [variance_inflation_factor(X.values, i) \n",
    "                          for i in range(len(X.columns))] \n",
    "print(vif_data)"
   ]
  },
  {
   "cell_type": "code",
   "execution_count": 0,
   "metadata": {
    "application/vnd.databricks.v1+cell": {
     "cellMetadata": {},
     "inputWidgets": {},
     "nuid": "d3a6302d-8b9c-48b5-a2c0-cdd0d2482b22",
     "showTitle": false,
     "title": ""
    },
    "id": "c11fb567"
   },
   "outputs": [],
   "source": [
    "insurance=insurance.drop(['age'], axis=1)"
   ]
  },
  {
   "cell_type": "code",
   "execution_count": 0,
   "metadata": {
    "application/vnd.databricks.v1+cell": {
     "cellMetadata": {},
     "inputWidgets": {},
     "nuid": "7ad4c5e9-1cdf-4e73-8f88-ea916d3328c5",
     "showTitle": false,
     "title": ""
    },
    "id": "c9e5b600",
    "outputId": "a4025ff3-f43e-4e9b-ca55-3415b5d9475a"
   },
   "outputs": [],
   "source": [
    "col_list = []\n",
    "for col in insurance.columns:\n",
    "    if ((insurance[col].dtype != 'object') & (col != 'charges') ):\n",
    "        col_list.append(col)\n",
    "\n",
    "X = insurance[col_list]\n",
    "vif_data = pd.DataFrame() \n",
    "vif_data[\"feature\"] = X.columns \n",
    "vif_data[\"VIF\"] = [variance_inflation_factor(X.values, i) \n",
    "                          for i in range(len(X.columns))] \n",
    "print(vif_data)"
   ]
  },
  {
   "cell_type": "code",
   "execution_count": 0,
   "metadata": {
    "application/vnd.databricks.v1+cell": {
     "cellMetadata": {},
     "inputWidgets": {},
     "nuid": "4d2df075-36bc-4306-a324-3ca059b9255e",
     "showTitle": false,
     "title": ""
    },
    "id": "66c4111d"
   },
   "outputs": [],
   "source": [
    "insurance=insurance.drop(['bmi'], axis=1)"
   ]
  },
  {
   "cell_type": "code",
   "execution_count": 0,
   "metadata": {
    "application/vnd.databricks.v1+cell": {
     "cellMetadata": {},
     "inputWidgets": {},
     "nuid": "97f72f16-b08b-4e17-b13b-be7f5056a5b3",
     "showTitle": false,
     "title": ""
    },
    "id": "3b35d176",
    "outputId": "8b218ebd-3055-4e36-d777-5724f99e939c"
   },
   "outputs": [],
   "source": [
    "col_list = []\n",
    "for col in insurance.columns:\n",
    "    if ((insurance[col].dtype != 'object') & (col != 'charges') ):\n",
    "        col_list.append(col)\n",
    "\n",
    "X = insurance[col_list]\n",
    "vif_data = pd.DataFrame() \n",
    "vif_data[\"feature\"] = X.columns \n",
    "vif_data[\"VIF\"] = [variance_inflation_factor(X.values, i) \n",
    "                          for i in range(len(X.columns))] \n",
    "print(vif_data)"
   ]
  },
  {
   "cell_type": "code",
   "execution_count": 0,
   "metadata": {
    "application/vnd.databricks.v1+cell": {
     "cellMetadata": {},
     "inputWidgets": {},
     "nuid": "2eccfa13-808e-4579-849e-923b6ea798e7",
     "showTitle": false,
     "title": ""
    },
    "id": "a1e46a2c"
   },
   "outputs": [],
   "source": [
    "insurance=insurance.drop(['NUmber_of_past_hospitalizations'], axis=1)"
   ]
  },
  {
   "cell_type": "code",
   "execution_count": 0,
   "metadata": {
    "application/vnd.databricks.v1+cell": {
     "cellMetadata": {},
     "inputWidgets": {},
     "nuid": "811bf36c-92d0-4e48-a550-63386bf92a3e",
     "showTitle": false,
     "title": ""
    },
    "id": "9adca449",
    "outputId": "9f2964d5-7499-4bab-d754-4736519951a1"
   },
   "outputs": [],
   "source": [
    "col_list = []\n",
    "for col in insurance.columns:\n",
    "    if ((insurance[col].dtype != 'object') & (col != 'charges') ):\n",
    "        col_list.append(col)\n",
    "\n",
    "X = insurance[col_list]\n",
    "vif_data = pd.DataFrame() \n",
    "vif_data[\"feature\"] = X.columns \n",
    "vif_data[\"VIF\"] = [variance_inflation_factor(X.values, i) \n",
    "                          for i in range(len(X.columns))] \n",
    "print(vif_data)\n",
    "\n",
    "# value<6"
   ]
  },
  {
   "cell_type": "code",
   "execution_count": 0,
   "metadata": {
    "application/vnd.databricks.v1+cell": {
     "cellMetadata": {},
     "inputWidgets": {},
     "nuid": "df9e4a93-b4ed-485a-8c6a-969e0248dfde",
     "showTitle": false,
     "title": ""
    },
    "id": "65e1e027"
   },
   "outputs": [],
   "source": [
    "x=insurance.loc[:,['children','Claim_Amount','past_consultations','Hospital_expenditure','Anual_Salary']]\n",
    "y=insurance.iloc[:,-1]"
   ]
  },
  {
   "cell_type": "code",
   "execution_count": 0,
   "metadata": {
    "application/vnd.databricks.v1+cell": {
     "cellMetadata": {},
     "inputWidgets": {},
     "nuid": "dcae6295-59ba-4f73-9b59-5da2ab9d9f46",
     "showTitle": false,
     "title": ""
    },
    "colab": {
     "base_uri": "https://localhost:8080/",
     "height": 270
    },
    "id": "TFhMHpRe6vSe",
    "outputId": "3dfb76c3-4a77-433c-9b76-2c864759236b"
   },
   "outputs": [],
   "source": [
    "insurance.head()"
   ]
  },
  {
   "cell_type": "code",
   "execution_count": 0,
   "metadata": {
    "application/vnd.databricks.v1+cell": {
     "cellMetadata": {},
     "inputWidgets": {},
     "nuid": "67951ca3-0511-4281-b048-7fee04348595",
     "showTitle": false,
     "title": ""
    },
    "id": "wER1kZS_6zNr"
   },
   "outputs": [],
   "source": [
    "#loc---> location\n",
    "# iloc---> index location"
   ]
  },
  {
   "cell_type": "code",
   "execution_count": 0,
   "metadata": {
    "application/vnd.databricks.v1+cell": {
     "cellMetadata": {},
     "inputWidgets": {},
     "nuid": "b78654a0-b55a-4fd8-b9e5-c73010d1550c",
     "showTitle": false,
     "title": ""
    },
    "colab": {
     "base_uri": "https://localhost:8080/",
     "height": 424
    },
    "id": "w1iqGMiz7GLN",
    "outputId": "b38adf62-b3e3-4397-ed5d-b0c2fa5d1b5b"
   },
   "outputs": [],
   "source": [
    "insurance.loc[:,'bmi':'children']"
   ]
  },
  {
   "cell_type": "code",
   "execution_count": 0,
   "metadata": {
    "application/vnd.databricks.v1+cell": {
     "cellMetadata": {},
     "inputWidgets": {},
     "nuid": "3308a32f-c1b2-435a-a41f-597b299f7a4a",
     "showTitle": false,
     "title": ""
    },
    "id": "DtG99pt-6zYb"
   },
   "outputs": [],
   "source": [
    "insurance.iloc[:,2:4]"
   ]
  },
  {
   "cell_type": "code",
   "execution_count": 0,
   "metadata": {
    "application/vnd.databricks.v1+cell": {
     "cellMetadata": {},
     "inputWidgets": {},
     "nuid": "b9f25760-31ae-4cd3-92f6-77f674dba4c9",
     "showTitle": false,
     "title": ""
    },
    "id": "23451c11"
   },
   "outputs": [],
   "source": [
    "x_train, x_test, y_train, y_test=train_test_split(x,y,train_size=0.8, random_state=0)\n",
    "#how to split the data?\n",
    "#100%---> 80% train and 20% test\n",
    "# xtrain,xtest,ytrain,ytest= train_test_split(data,train_size/test_size)\n",
    "#train_size should be more\n",
    "#random_state--> pattern \n",
    "#example\n",
    "#without random_state\n",
    "# 1,2,3,4,5,6  # pick two random numbers\n",
    "# 3,4,6\n",
    "# 1,5,6\n",
    "# 1,2,3----> \n",
    "\n",
    "#with random_state\n",
    "# 1,3,6\n",
    "# 1,3,6\n",
    "# 1,3,6\n",
    "#rs=0/1/100"
   ]
  },
  {
   "cell_type": "code",
   "execution_count": 0,
   "metadata": {
    "application/vnd.databricks.v1+cell": {
     "cellMetadata": {},
     "inputWidgets": {},
     "nuid": "bb685465-6603-4167-b48b-1db93bdfba54",
     "showTitle": false,
     "title": ""
    },
    "id": "fe467b96"
   },
   "outputs": [],
   "source": [
    "print(x_train.shape)\n",
    "print(y_train.shape)\n",
    "print(x_test.shape)\n",
    "print(y_test.shape)"
   ]
  },
  {
   "cell_type": "code",
   "execution_count": 0,
   "metadata": {
    "application/vnd.databricks.v1+cell": {
     "cellMetadata": {},
     "inputWidgets": {},
     "nuid": "a2eafdb1-1e4d-4d9b-90cf-268a64f8aa68",
     "showTitle": false,
     "title": ""
    },
    "id": "4b90450e"
   },
   "outputs": [],
   "source": [
    "x_train , y_train, x_test, y_test"
   ]
  },
  {
   "cell_type": "code",
   "execution_count": 0,
   "metadata": {
    "application/vnd.databricks.v1+cell": {
     "cellMetadata": {},
     "inputWidgets": {},
     "nuid": "076ef5c2-affb-42d1-a0de-465f78d0426a",
     "showTitle": false,
     "title": ""
    },
    "id": "f82e3274"
   },
   "outputs": [],
   "source": [
    "l_model=LinearRegression()\n",
    "#building the model\n",
    "# building my robot---> this is example"
   ]
  },
  {
   "cell_type": "code",
   "execution_count": 0,
   "metadata": {
    "application/vnd.databricks.v1+cell": {
     "cellMetadata": {},
     "inputWidgets": {},
     "nuid": "598c1139-2a5d-4296-8c3a-af0876c5ef93",
     "showTitle": false,
     "title": ""
    },
    "id": "ee2dafdb"
   },
   "outputs": [],
   "source": [
    "l_model.fit(x_train, y_train)\n",
    "#fit function: to training model"
   ]
  },
  {
   "cell_type": "code",
   "execution_count": 0,
   "metadata": {
    "application/vnd.databricks.v1+cell": {
     "cellMetadata": {},
     "inputWidgets": {},
     "nuid": "387b491c-749c-4cf4-a68e-95f308d30ae3",
     "showTitle": false,
     "title": ""
    },
    "id": "de0b93a7"
   },
   "outputs": [],
   "source": [
    "predictions=l_model.predict(x_test)\n",
    "# predict: to test the model"
   ]
  },
  {
   "cell_type": "code",
   "execution_count": 0,
   "metadata": {
    "application/vnd.databricks.v1+cell": {
     "cellMetadata": {},
     "inputWidgets": {},
     "nuid": "495af2bf-df2e-4234-b0b4-5b4c4abc5e47",
     "showTitle": false,
     "title": ""
    },
    "id": "387c24c7"
   },
   "outputs": [],
   "source": [
    "predictions"
   ]
  },
  {
   "cell_type": "code",
   "execution_count": 0,
   "metadata": {
    "application/vnd.databricks.v1+cell": {
     "cellMetadata": {},
     "inputWidgets": {},
     "nuid": "2eec87a6-4b71-4643-89f7-45943e30c4b1",
     "showTitle": false,
     "title": ""
    },
    "id": "265d03b7"
   },
   "outputs": [],
   "source": [
    "error_pred=pd.DataFrame(columns={'Actual_data','Prediction_data'})"
   ]
  },
  {
   "cell_type": "code",
   "execution_count": 0,
   "metadata": {
    "application/vnd.databricks.v1+cell": {
     "cellMetadata": {},
     "inputWidgets": {},
     "nuid": "5e8ce7b5-18f0-44aa-9657-79919aa85ad1",
     "showTitle": false,
     "title": ""
    },
    "id": "a3213faf"
   },
   "outputs": [],
   "source": [
    "error_pred"
   ]
  },
  {
   "cell_type": "code",
   "execution_count": 0,
   "metadata": {
    "application/vnd.databricks.v1+cell": {
     "cellMetadata": {},
     "inputWidgets": {},
     "nuid": "7bba34de-3ef0-498e-a65e-07695838b8ba",
     "showTitle": false,
     "title": ""
    },
    "id": "d92d06a5"
   },
   "outputs": [],
   "source": [
    "error_pred['Actual_data']=y_test\n",
    "#professor ans key"
   ]
  },
  {
   "cell_type": "code",
   "execution_count": 0,
   "metadata": {
    "application/vnd.databricks.v1+cell": {
     "cellMetadata": {},
     "inputWidgets": {},
     "nuid": "f6ff586c-2e75-40f1-a1d0-b5cf1fda9c20",
     "showTitle": false,
     "title": ""
    },
    "id": "28be00fd"
   },
   "outputs": [],
   "source": [
    "error_pred"
   ]
  },
  {
   "cell_type": "code",
   "execution_count": 0,
   "metadata": {
    "application/vnd.databricks.v1+cell": {
     "cellMetadata": {},
     "inputWidgets": {},
     "nuid": "7d6f68d7-9dec-46af-8b12-4df199285248",
     "showTitle": false,
     "title": ""
    },
    "id": "7e0c867d"
   },
   "outputs": [],
   "source": [
    "error_pred['Prediction_data']=predictions\n",
    "# ans given by kid"
   ]
  },
  {
   "cell_type": "code",
   "execution_count": 0,
   "metadata": {
    "application/vnd.databricks.v1+cell": {
     "cellMetadata": {},
     "inputWidgets": {},
     "nuid": "6979e4de-90c3-45ea-b723-ef9f678d58f2",
     "showTitle": false,
     "title": ""
    },
    "id": "7b9207b3"
   },
   "outputs": [],
   "source": [
    "error_pred.head()"
   ]
  },
  {
   "cell_type": "code",
   "execution_count": 0,
   "metadata": {
    "application/vnd.databricks.v1+cell": {
     "cellMetadata": {},
     "inputWidgets": {},
     "nuid": "6773d5ed-f831-4236-b78a-ea5f16c85dcb",
     "showTitle": false,
     "title": ""
    },
    "id": "d1e932a4"
   },
   "outputs": [],
   "source": [
    "error_pred.shape"
   ]
  },
  {
   "cell_type": "code",
   "execution_count": 0,
   "metadata": {
    "application/vnd.databricks.v1+cell": {
     "cellMetadata": {},
     "inputWidgets": {},
     "nuid": "ba72ddea-9eb8-463f-b8ad-36264f558f77",
     "showTitle": false,
     "title": ""
    },
    "id": "d2f2eb80"
   },
   "outputs": [],
   "source": [
    "error_pred['Error']=error_pred['Actual_data']-error_pred['Prediction_data']"
   ]
  },
  {
   "cell_type": "code",
   "execution_count": 0,
   "metadata": {
    "application/vnd.databricks.v1+cell": {
     "cellMetadata": {},
     "inputWidgets": {},
     "nuid": "46421dfb-9428-4038-b963-0fc537f67d15",
     "showTitle": false,
     "title": ""
    },
    "id": "05d308c4"
   },
   "outputs": [],
   "source": [
    "error_pred.head()"
   ]
  },
  {
   "cell_type": "code",
   "execution_count": 0,
   "metadata": {
    "application/vnd.databricks.v1+cell": {
     "cellMetadata": {},
     "inputWidgets": {},
     "nuid": "dc5e8ce5-5ef9-412c-ae13-6ee1c34f16a3",
     "showTitle": false,
     "title": ""
    },
    "id": "6719e1a6"
   },
   "outputs": [],
   "source": [
    "from sklearn.metrics import *"
   ]
  },
  {
   "cell_type": "code",
   "execution_count": 0,
   "metadata": {
    "application/vnd.databricks.v1+cell": {
     "cellMetadata": {},
     "inputWidgets": {},
     "nuid": "fad32265-76aa-447b-92e1-8c0fec55c8a4",
     "showTitle": false,
     "title": ""
    },
    "id": "d4383466"
   },
   "outputs": [],
   "source": [
    "train_predict=l_model.predict(x_train)\n",
    "train_predict"
   ]
  },
  {
   "cell_type": "code",
   "execution_count": 0,
   "metadata": {
    "application/vnd.databricks.v1+cell": {
     "cellMetadata": {},
     "inputWidgets": {},
     "nuid": "200fae30-2f9b-4545-932e-539f4406cc80",
     "showTitle": false,
     "title": ""
    },
    "id": "6dc34792"
   },
   "outputs": [],
   "source": [
    "r2_on_test=r2_score(y_test, predictions)\n",
    "r2_on_test"
   ]
  },
  {
   "cell_type": "code",
   "execution_count": 0,
   "metadata": {
    "application/vnd.databricks.v1+cell": {
     "cellMetadata": {},
     "inputWidgets": {},
     "nuid": "4a3e9634-5288-47bb-9e9d-9eaebbb7178b",
     "showTitle": false,
     "title": ""
    },
    "id": "1614c936"
   },
   "outputs": [],
   "source": [
    "rmse_on_test = mean_squared_error(y_test, predictions, squared=False)\n",
    "rmse_on_test"
   ]
  },
  {
   "cell_type": "code",
   "execution_count": 0,
   "metadata": {
    "application/vnd.databricks.v1+cell": {
     "cellMetadata": {},
     "inputWidgets": {},
     "nuid": "47cc01f0-3f22-4d32-9011-e978eac66254",
     "showTitle": false,
     "title": ""
    },
    "id": "84334b68"
   },
   "outputs": [],
   "source": [
    "from sklearn.metrics import mean_absolute_percentage_error"
   ]
  },
  {
   "cell_type": "code",
   "execution_count": 0,
   "metadata": {
    "application/vnd.databricks.v1+cell": {
     "cellMetadata": {},
     "inputWidgets": {},
     "nuid": "277cc107-2828-4783-af2e-b59eaed76770",
     "showTitle": false,
     "title": ""
    },
    "id": "f58e65f8"
   },
   "outputs": [],
   "source": [
    "mape_on_test=mean_absolute_percentage_error(y_test, predictions)\n",
    "mape_on_test"
   ]
  },
  {
   "cell_type": "code",
   "execution_count": 0,
   "metadata": {
    "application/vnd.databricks.v1+cell": {
     "cellMetadata": {},
     "inputWidgets": {},
     "nuid": "73b20e7d-0372-46ac-b04e-2adc19904f36",
     "showTitle": false,
     "title": ""
    },
    "id": "6ecc0e8f"
   },
   "outputs": [],
   "source": []
  },
  {
   "cell_type": "code",
   "execution_count": 0,
   "metadata": {
    "application/vnd.databricks.v1+cell": {
     "cellMetadata": {},
     "inputWidgets": {},
     "nuid": "a9973ecd-e37a-4958-90a2-8d56870ba02a",
     "showTitle": false,
     "title": ""
    },
    "id": "7508330b"
   },
   "outputs": [],
   "source": []
  }
 ],
 "metadata": {
  "application/vnd.databricks.v1+notebook": {
   "dashboards": [],
   "language": "python",
   "notebookMetadata": {
    "pythonIndentUnit": 4
   },
   "notebookName": "LR_New_insurance",
   "widgets": {}
  },
  "colab": {
   "provenance": []
  },
  "kernelspec": {
   "display_name": "Python 3 (ipykernel)",
   "language": "python",
   "name": "python3"
  },
  "language_info": {
   "codemirror_mode": {
    "name": "ipython",
    "version": 3
   },
   "file_extension": ".py",
   "mimetype": "text/x-python",
   "name": "python",
   "nbconvert_exporter": "python",
   "pygments_lexer": "ipython3",
   "version": "3.9.12"
  }
 },
 "nbformat": 4,
 "nbformat_minor": 0
}
